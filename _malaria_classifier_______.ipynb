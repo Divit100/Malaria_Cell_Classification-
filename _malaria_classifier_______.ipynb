{
  "nbformat": 4,
  "nbformat_minor": 0,
  "metadata": {
    "kernelspec": {
      "display_name": "Python 3",
      "language": "python",
      "name": "python3"
    },
    "language_info": {
      "codemirror_mode": {
        "name": "ipython",
        "version": 3
      },
      "file_extension": ".py",
      "mimetype": "text/x-python",
      "name": "python",
      "nbconvert_exporter": "python",
      "pygments_lexer": "ipython3",
      "version": "3.7.7"
    },
    "colab": {
      "name": "@@@malaria_classifier_______.ipynb",
      "provenance": [],
      "collapsed_sections": []
    }
  },
  "cells": [
    {
      "cell_type": "code",
      "metadata": {
        "id": "-fMbp_43KHeF",
        "colab_type": "code",
        "colab": {}
      },
      "source": [
        "import numpy as np\n",
        "import pandas as pd\n",
        "import matplotlib.pyplot as plt\n",
        "%matplotlib inline\n",
        "import seaborn as sns \n",
        "import os"
      ],
      "execution_count": null,
      "outputs": []
    },
    {
      "cell_type": "code",
      "metadata": {
        "id": "fG4yiAb5KHeJ",
        "colab_type": "code",
        "colab": {}
      },
      "source": [
        "data_dir='C:/Users/Divit/Desktop/Udemy/Tensorflow/cell_images'"
      ],
      "execution_count": null,
      "outputs": []
    },
    {
      "cell_type": "code",
      "metadata": {
        "id": "mhochwQ9KHeM",
        "colab_type": "code",
        "colab": {},
        "outputId": "41fc124a-dfae-460a-f223-cebd5039eb6b"
      },
      "source": [
        "os.listdir(data_dir)"
      ],
      "execution_count": null,
      "outputs": [
        {
          "output_type": "execute_result",
          "data": {
            "text/plain": [
              "['test', 'train']"
            ]
          },
          "metadata": {
            "tags": []
          },
          "execution_count": 4
        }
      ]
    },
    {
      "cell_type": "code",
      "metadata": {
        "id": "vN1lROl0KHeP",
        "colab_type": "code",
        "colab": {}
      },
      "source": [
        "train_img=(data_dir + '/train')\n",
        "test_img=(data_dir + '/test')\n"
      ],
      "execution_count": null,
      "outputs": []
    },
    {
      "cell_type": "code",
      "metadata": {
        "id": "PhxxtQ-MKHeS",
        "colab_type": "code",
        "colab": {},
        "outputId": "bd57fe0d-0f0c-4f5a-b25e-b1db2746612e"
      },
      "source": [
        "train_img"
      ],
      "execution_count": null,
      "outputs": [
        {
          "output_type": "execute_result",
          "data": {
            "text/plain": [
              "'C:/Users/Divit/Desktop/Udemy/Tensorflow/cell_images/train'"
            ]
          },
          "metadata": {
            "tags": []
          },
          "execution_count": 6
        }
      ]
    },
    {
      "cell_type": "code",
      "metadata": {
        "id": "JPLB8xjUKHeV",
        "colab_type": "code",
        "colab": {}
      },
      "source": [
        "uninfected_ex=os.listdir(data_dir + '/train'+'/uninfected')[0]"
      ],
      "execution_count": null,
      "outputs": []
    },
    {
      "cell_type": "code",
      "metadata": {
        "id": "cFI0TGO_KHeY",
        "colab_type": "code",
        "colab": {},
        "outputId": "abc0796a-1c0f-40f3-aa00-cfb08530a8b5"
      },
      "source": [
        "uninfected_ex"
      ],
      "execution_count": null,
      "outputs": [
        {
          "output_type": "execute_result",
          "data": {
            "text/plain": [
              "'C100P61ThinF_IMG_20150918_144104_cell_128.png'"
            ]
          },
          "metadata": {
            "tags": []
          },
          "execution_count": 8
        }
      ]
    },
    {
      "cell_type": "code",
      "metadata": {
        "id": "v-za9SpKKHeb",
        "colab_type": "code",
        "colab": {}
      },
      "source": [
        "uninfected_ex=plt.imread(data_dir + '/train'+'/uninfected'+'/C100P61ThinF_IMG_20150918_144104_cell_128.png')"
      ],
      "execution_count": null,
      "outputs": []
    },
    {
      "cell_type": "code",
      "metadata": {
        "id": "VZMP__p8KHee",
        "colab_type": "code",
        "colab": {},
        "outputId": "584ce3b2-1f82-47f9-cbe2-6730af06ddab"
      },
      "source": [
        "plt.imshow(uninfected_ex)"
      ],
      "execution_count": null,
      "outputs": [
        {
          "output_type": "execute_result",
          "data": {
            "text/plain": [
              "<matplotlib.image.AxesImage at 0x23120bb9f88>"
            ]
          },
          "metadata": {
            "tags": []
          },
          "execution_count": 10
        },
        {
          "output_type": "display_data",
          "data": {
            "image/png": "[encoded data removed]",
            "text/plain": [
              "<Figure size 432x288 with 1 Axes>"
            ]
          },
          "metadata": {
            "tags": [],
            "needs_background": "light"
          }
        }
      ]
    },
    {
      "cell_type": "code",
      "metadata": {
        "id": "Shr1x2NmKHeg",
        "colab_type": "code",
        "colab": {},
        "outputId": "d9a218bd-9896-4843-ef31-846f3af9f874"
      },
      "source": [
        "os.listdir(data_dir+'/test'+'/parasitized')[0]"
      ],
      "execution_count": null,
      "outputs": [
        {
          "output_type": "execute_result",
          "data": {
            "text/plain": [
              "'C100P61ThinF_IMG_20150918_144348_cell_144.png'"
            ]
          },
          "metadata": {
            "tags": []
          },
          "execution_count": 11
        }
      ]
    },
    {
      "cell_type": "code",
      "metadata": {
        "id": "fiKVDykHKHei",
        "colab_type": "code",
        "colab": {}
      },
      "source": [
        "infected_ex=plt.imread(data_dir+'/test'+'/parasitized'+'/C100P61ThinF_IMG_20150918_144348_cell_144.png')"
      ],
      "execution_count": null,
      "outputs": []
    },
    {
      "cell_type": "code",
      "metadata": {
        "id": "GLdkPz7iKHel",
        "colab_type": "code",
        "colab": {},
        "outputId": "b67e5c44-7522-4eee-9e8c-20d96c7a12fe"
      },
      "source": [
        "plt.imshow(infected_ex)"
      ],
      "execution_count": null,
      "outputs": [
        {
          "output_type": "execute_result",
          "data": {
            "text/plain": [
              "<matplotlib.image.AxesImage at 0x23120c68288>"
            ]
          },
          "metadata": {
            "tags": []
          },
          "execution_count": 13
        },
        {
          "output_type": "display_data",
          "data": {
            "image/png": "[encoded data removed]",
            "text/plain": [
              "<Figure size 432x288 with 1 Axes>"
            ]
          },
          "metadata": {
            "tags": [],
            "needs_background": "light"
          }
        }
      ]
    },
    {
      "cell_type": "code",
      "metadata": {
        "id": "NGrOxayOKHen",
        "colab_type": "code",
        "colab": {},
        "outputId": "5c79e937-12d1-40f8-80d1-048cda3665c6"
      },
      "source": [
        "infected_ex.shape"
      ],
      "execution_count": null,
      "outputs": [
        {
          "output_type": "execute_result",
          "data": {
            "text/plain": [
              "(136, 133, 3)"
            ]
          },
          "metadata": {
            "tags": []
          },
          "execution_count": 14
        }
      ]
    },
    {
      "cell_type": "code",
      "metadata": {
        "id": "44mzuIahKHep",
        "colab_type": "code",
        "colab": {},
        "outputId": "9ed05025-b73d-438e-846c-565b0225b3ca"
      },
      "source": [
        "uninfected_ex.shape"
      ],
      "execution_count": null,
      "outputs": [
        {
          "output_type": "execute_result",
          "data": {
            "text/plain": [
              "(139, 160, 3)"
            ]
          },
          "metadata": {
            "tags": []
          },
          "execution_count": 15
        }
      ]
    },
    {
      "cell_type": "code",
      "metadata": {
        "id": "6tu-t2kmKHes",
        "colab_type": "code",
        "colab": {}
      },
      "source": [
        "d1_l=[]\n",
        "d2_l=[]\n",
        "\n",
        "for x in os.listdir(test_img + '/uninfected'):\n",
        "    img=plt.imread(test_img + '/uninfected/' + x)\n",
        "    d1,d2,color=img.shape\n",
        "    \n",
        "    d1_l.append(d1)\n",
        "    d2_l.append(d2)\n",
        "    \n",
        "    \n",
        "    \n",
        "    \n",
        "    "
      ],
      "execution_count": null,
      "outputs": []
    },
    {
      "cell_type": "code",
      "metadata": {
        "id": "Dir0dbsuKHeu",
        "colab_type": "code",
        "colab": {}
      },
      "source": [
        "d1=np.mean(d1_l)\n",
        "d2=np.mean(d2_l)"
      ],
      "execution_count": null,
      "outputs": []
    },
    {
      "cell_type": "code",
      "metadata": {
        "id": "iOCoYAz9KHew",
        "colab_type": "code",
        "colab": {}
      },
      "source": [
        "img_avg_shape=(130,130,3)"
      ],
      "execution_count": null,
      "outputs": []
    },
    {
      "cell_type": "code",
      "metadata": {
        "id": "ximzDayUKHez",
        "colab_type": "code",
        "colab": {},
        "outputId": "13f191d2-8e98-4088-db4f-4a6a79b6cab5"
      },
      "source": [
        "img_avg_shape"
      ],
      "execution_count": null,
      "outputs": [
        {
          "output_type": "execute_result",
          "data": {
            "text/plain": [
              "(130, 130, 3)"
            ]
          },
          "metadata": {
            "tags": []
          },
          "execution_count": 19
        }
      ]
    },
    {
      "cell_type": "code",
      "metadata": {
        "id": "4fAAaN0wKHe4",
        "colab_type": "code",
        "colab": {}
      },
      "source": [
        "from tensorflow.keras.preprocessing.image import ImageDataGenerator"
      ],
      "execution_count": null,
      "outputs": []
    },
    {
      "cell_type": "code",
      "metadata": {
        "id": "VWGLr6QeKHe6",
        "colab_type": "code",
        "colab": {}
      },
      "source": [
        "img_gen=ImageDataGenerator(rotation_range=20,height_shift_range=0.2,width_shift_range=0.2,shear_range=0.3,zoom_range=0.3,\n",
        "                          horizontal_flip=True,fill_mode='nearest',rescale=1/255)"
      ],
      "execution_count": null,
      "outputs": []
    },
    {
      "cell_type": "code",
      "metadata": {
        "id": "SWhCt9EqKHe8",
        "colab_type": "code",
        "colab": {},
        "outputId": "72e7260a-d18c-4bb3-c18c-efc06c72dee3"
      },
      "source": [
        "plt.imshow(img_gen.random_transform(infected_ex))"
      ],
      "execution_count": null,
      "outputs": [
        {
          "output_type": "execute_result",
          "data": {
            "text/plain": [
              "<matplotlib.image.AxesImage at 0x23125bf7e88>"
            ]
          },
          "metadata": {
            "tags": []
          },
          "execution_count": 22
        },
        {
          "output_type": "display_data",
          "data": {
            "image/png": "[encoded data removed]",
            "text/plain": [
              "<Figure size 432x288 with 1 Axes>"
            ]
          },
          "metadata": {
            "tags": [],
            "needs_background": "light"
          }
        }
      ]
    },
    {
      "cell_type": "code",
      "metadata": {
        "id": "5n6xkJGJKHe_",
        "colab_type": "code",
        "colab": {},
        "outputId": "4067358d-9c3a-49d4-c413-621cb4d076d4"
      },
      "source": [
        "plt.imshow(infected_ex)"
      ],
      "execution_count": null,
      "outputs": [
        {
          "output_type": "execute_result",
          "data": {
            "text/plain": [
              "<matplotlib.image.AxesImage at 0x23125c64b48>"
            ]
          },
          "metadata": {
            "tags": []
          },
          "execution_count": 23
        },
        {
          "output_type": "display_data",
          "data": {
            "image/png": "[encoded data removed]",
            "text/plain": [
              "<Figure size 432x288 with 1 Axes>"
            ]
          },
          "metadata": {
            "tags": [],
            "needs_background": "light"
          }
        }
      ]
    },
    {
      "cell_type": "code",
      "metadata": {
        "id": "ONqR99QjKHfB",
        "colab_type": "code",
        "colab": {},
        "outputId": "b6659847-2644-4bec-d9bc-fe85128ca4ef"
      },
      "source": [
        "train_imgs=img_gen.flow_from_directory(directory=train_img,target_size=img_avg_shape[:2],batch_size=16,color_mode='rgb',class_mode='binary')"
      ],
      "execution_count": null,
      "outputs": [
        {
          "output_type": "stream",
          "text": [
            "Found 24958 images belonging to 2 classes.\n"
          ],
          "name": "stdout"
        }
      ]
    },
    {
      "cell_type": "code",
      "metadata": {
        "id": "wQi86B3JKHfF",
        "colab_type": "code",
        "colab": {},
        "outputId": "7b2cc0d3-7824-4a19-9130-0731830dee4b"
      },
      "source": [
        "test_imgs=img_gen.flow_from_directory(directory=test_img,target_size=img_avg_shape[:2],batch_size=16,color_mode='rgb',class_mode='binary',shuffle=False)"
      ],
      "execution_count": null,
      "outputs": [
        {
          "output_type": "stream",
          "text": [
            "Found 2600 images belonging to 2 classes.\n"
          ],
          "name": "stdout"
        }
      ]
    },
    {
      "cell_type": "code",
      "metadata": {
        "id": "6aBOAMjIKHfK",
        "colab_type": "code",
        "colab": {}
      },
      "source": [
        "from tensorflow.keras.models import Sequential\n",
        "from tensorflow.keras.layers import Dense,Conv2D,MaxPool2D,Dropout,Flatten"
      ],
      "execution_count": null,
      "outputs": []
    },
    {
      "cell_type": "code",
      "metadata": {
        "id": "5gdq071TKHfO",
        "colab_type": "code",
        "colab": {}
      },
      "source": [
        "model=Sequential()\n",
        "\n",
        "model.add(Conv2D(filters=32,kernel_size=(3,3),input_shape=img_avg_shape,activation='relu'))\n",
        "model.add(MaxPool2D(pool_size=(2,2)))\n",
        "model.add(Dropout(0.2))\n",
        "\n",
        "model.add(Conv2D(filters=32,kernel_size=(3,3),input_shape=img_avg_shape,activation='relu'))\n",
        "model.add(MaxPool2D(pool_size=(2,2)))\n",
        "model.add(Dropout(0.2))\n",
        "\n",
        "model.add(Conv2D(filters=32,kernel_size=(3,3),input_shape=img_avg_shape,activation='relu'))\n",
        "model.add(MaxPool2D(pool_size=(2,2)))\n",
        "model.add(Dropout(0.2))\n",
        "\n",
        "model.add(Flatten())\n",
        "          \n",
        "model.add(Dense(256,activation='relu'))\n",
        "\n",
        "model.add(Dense(1,activation='sigmoid'))\n",
        "\n",
        "\n",
        "\n",
        "model.compile(optimizer='adam',loss='binary_crossentropy',metrics=['accuracy'])\n",
        "          "
      ],
      "execution_count": null,
      "outputs": []
    },
    {
      "cell_type": "code",
      "metadata": {
        "id": "geeMQZMWKHfS",
        "colab_type": "code",
        "colab": {},
        "outputId": "df5a86e1-c156-4371-b45f-b2fa2989e042"
      },
      "source": [
        "model.summary()"
      ],
      "execution_count": null,
      "outputs": [
        {
          "output_type": "stream",
          "text": [
            "Model: \"sequential_2\"\n",
            "_________________________________________________________________\n",
            "Layer (type)                 Output Shape              Param #   \n",
            "=================================================================\n",
            "conv2d_4 (Conv2D)            (None, 128, 128, 32)      896       \n",
            "_________________________________________________________________\n",
            "max_pooling2d_3 (MaxPooling2 (None, 64, 64, 32)        0         \n",
            "_________________________________________________________________\n",
            "dropout_3 (Dropout)          (None, 64, 64, 32)        0         \n",
            "_________________________________________________________________\n",
            "conv2d_5 (Conv2D)            (None, 62, 62, 32)        9248      \n",
            "_________________________________________________________________\n",
            "max_pooling2d_4 (MaxPooling2 (None, 31, 31, 32)        0         \n",
            "_________________________________________________________________\n",
            "dropout_4 (Dropout)          (None, 31, 31, 32)        0         \n",
            "_________________________________________________________________\n",
            "conv2d_6 (Conv2D)            (None, 29, 29, 32)        9248      \n",
            "_________________________________________________________________\n",
            "max_pooling2d_5 (MaxPooling2 (None, 14, 14, 32)        0         \n",
            "_________________________________________________________________\n",
            "dropout_5 (Dropout)          (None, 14, 14, 32)        0         \n",
            "_________________________________________________________________\n",
            "flatten_1 (Flatten)          (None, 6272)              0         \n",
            "_________________________________________________________________\n",
            "dense_2 (Dense)              (None, 256)               1605888   \n",
            "_________________________________________________________________\n",
            "dense_3 (Dense)              (None, 1)                 257       \n",
            "=================================================================\n",
            "Total params: 1,625,537\n",
            "Trainable params: 1,625,537\n",
            "Non-trainable params: 0\n",
            "_________________________________________________________________\n"
          ],
          "name": "stdout"
        }
      ]
    },
    {
      "cell_type": "code",
      "metadata": {
        "id": "kGho6OA1KHfV",
        "colab_type": "code",
        "colab": {}
      },
      "source": [
        "from tensorflow.keras.callbacks import EarlyStopping\n"
      ],
      "execution_count": null,
      "outputs": []
    },
    {
      "cell_type": "code",
      "metadata": {
        "id": "ODJio_HhKHfX",
        "colab_type": "code",
        "colab": {}
      },
      "source": [
        "early_stop=EarlyStopping(monitor='val_loss',patience=2)"
      ],
      "execution_count": null,
      "outputs": []
    },
    {
      "cell_type": "code",
      "metadata": {
        "id": "4G4K5SFIKHfZ",
        "colab_type": "code",
        "colab": {}
      },
      "source": [
        ""
      ],
      "execution_count": null,
      "outputs": []
    },
    {
      "cell_type": "code",
      "metadata": {
        "id": "VDDJ6S9HKHfb",
        "colab_type": "code",
        "colab": {}
      },
      "source": [
        "from tensorflow.keras.models import load_model"
      ],
      "execution_count": null,
      "outputs": []
    },
    {
      "cell_type": "code",
      "metadata": {
        "id": "mVg8PEO1KHfe",
        "colab_type": "code",
        "colab": {}
      },
      "source": [
        "my_model=load_model('malaria_detector.h5')"
      ],
      "execution_count": null,
      "outputs": []
    },
    {
      "cell_type": "code",
      "metadata": {
        "id": "tK_9NfZHKHfg",
        "colab_type": "code",
        "colab": {},
        "outputId": "b2e7066f-9bc0-4862-b11c-449150e60cd0"
      },
      "source": [
        "my_model.evaluate_generator(test_imgs)"
      ],
      "execution_count": null,
      "outputs": [
        {
          "output_type": "execute_result",
          "data": {
            "text/plain": [
              "[4.306815772910446, 0.7176923]"
            ]
          },
          "metadata": {
            "tags": []
          },
          "execution_count": 28
        }
      ]
    },
    {
      "cell_type": "code",
      "metadata": {
        "id": "Uu0Vaz9gKHfh",
        "colab_type": "code",
        "colab": {}
      },
      "source": [
        "predictions=my_model.predict_generator(test_imgs)"
      ],
      "execution_count": null,
      "outputs": []
    },
    {
      "cell_type": "code",
      "metadata": {
        "id": "JzzCNhIDKHfj",
        "colab_type": "code",
        "colab": {}
      },
      "source": [
        "predictions=predictions>0.5"
      ],
      "execution_count": null,
      "outputs": []
    },
    {
      "cell_type": "code",
      "metadata": {
        "id": "IDeROw6sKHfl",
        "colab_type": "code",
        "colab": {}
      },
      "source": [
        "y_true=test_imgs.classes"
      ],
      "execution_count": null,
      "outputs": []
    },
    {
      "cell_type": "code",
      "metadata": {
        "id": "Ln6ChmLqKHfn",
        "colab_type": "code",
        "colab": {}
      },
      "source": [
        "from sklearn.metrics import classification_report,confusion_matrix\n",
        "\n"
      ],
      "execution_count": null,
      "outputs": []
    },
    {
      "cell_type": "code",
      "metadata": {
        "id": "s-tSMRH6KHfq",
        "colab_type": "code",
        "colab": {},
        "outputId": "51ed515e-d1a0-4bcc-a546-e5f5a4e22d89"
      },
      "source": [
        "print(classification_report(y_true,predictions))"
      ],
      "execution_count": null,
      "outputs": [
        {
          "output_type": "stream",
          "text": [
            "              precision    recall  f1-score   support\n",
            "\n",
            "           0       0.64      0.97      0.77      1300\n",
            "           1       0.95      0.46      0.62      1300\n",
            "\n",
            "    accuracy                           0.72      2600\n",
            "   macro avg       0.79      0.72      0.70      2600\n",
            "weighted avg       0.79      0.72      0.70      2600\n",
            "\n"
          ],
          "name": "stdout"
        }
      ]
    },
    {
      "cell_type": "code",
      "metadata": {
        "id": "L4Gv9Z5GKHfs",
        "colab_type": "code",
        "colab": {},
        "outputId": "948c80b1-5c4f-4bde-f6bd-eb691e53cb68"
      },
      "source": [
        "confusion_matrix(y_true,predictions)"
      ],
      "execution_count": null,
      "outputs": [
        {
          "output_type": "execute_result",
          "data": {
            "text/plain": [
              "array([[1267,   33],\n",
              "       [ 705,  595]], dtype=int64)"
            ]
          },
          "metadata": {
            "tags": []
          },
          "execution_count": 42
        }
      ]
    },
    {
      "cell_type": "code",
      "metadata": {
        "id": "oukL_IBWKHfu",
        "colab_type": "code",
        "colab": {}
      },
      "source": [
        "from tensorflow.keras.preprocessing import image "
      ],
      "execution_count": null,
      "outputs": []
    },
    {
      "cell_type": "code",
      "metadata": {
        "id": "JyCYbQorKHfx",
        "colab_type": "code",
        "colab": {}
      },
      "source": [
        "Y=image.load_img(data_dir+'/test'+'/parasitized'+'/C100P61ThinF_IMG_20150918_144348_cell_144.png',target_size=img_avg_shape[:2])\n"
      ],
      "execution_count": null,
      "outputs": []
    },
    {
      "cell_type": "code",
      "metadata": {
        "id": "8arUSENOKHf3",
        "colab_type": "code",
        "colab": {}
      },
      "source": [
        "Y=image.img_to_array(Y)"
      ],
      "execution_count": null,
      "outputs": []
    },
    {
      "cell_type": "code",
      "metadata": {
        "id": "qsUi8W18KHf5",
        "colab_type": "code",
        "colab": {},
        "outputId": "c6845cc5-1a77-40db-a5c6-4d10b2101782"
      },
      "source": [
        "Y.shape"
      ],
      "execution_count": null,
      "outputs": [
        {
          "output_type": "execute_result",
          "data": {
            "text/plain": [
              "(130, 130, 3)"
            ]
          },
          "metadata": {
            "tags": []
          },
          "execution_count": 74
        }
      ]
    },
    {
      "cell_type": "code",
      "metadata": {
        "id": "X1RvZU22KHf9",
        "colab_type": "code",
        "colab": {}
      },
      "source": [
        "Y=Y.reshape(1,130,130,3)"
      ],
      "execution_count": null,
      "outputs": []
    },
    {
      "cell_type": "code",
      "metadata": {
        "id": "fT9wsNjwKHgB",
        "colab_type": "code",
        "colab": {},
        "outputId": "bb035505-8821-4ded-ec40-1c4133af02c9"
      },
      "source": [
        "my_model.predict(Y)"
      ],
      "execution_count": null,
      "outputs": [
        {
          "output_type": "execute_result",
          "data": {
            "text/plain": [
              "array([[0.]], dtype=float32)"
            ]
          },
          "metadata": {
            "tags": []
          },
          "execution_count": 79
        }
      ]
    },
    {
      "cell_type": "code",
      "metadata": {
        "id": "D9M9qiIUKHgE",
        "colab_type": "code",
        "colab": {},
        "outputId": "787dd71c-1668-41da-db45-3786197b4681"
      },
      "source": [
        "test_imgs.class_indices"
      ],
      "execution_count": null,
      "outputs": [
        {
          "output_type": "execute_result",
          "data": {
            "text/plain": [
              "{'parasitized': 0, 'uninfected': 1}"
            ]
          },
          "metadata": {
            "tags": []
          },
          "execution_count": 80
        }
      ]
    },
    {
      "cell_type": "code",
      "metadata": {
        "id": "2npsLNChKHgI",
        "colab_type": "code",
        "colab": {}
      },
      "source": [
        ""
      ],
      "execution_count": null,
      "outputs": []
    }
  ]
}